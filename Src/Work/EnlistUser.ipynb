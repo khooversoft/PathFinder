{
 "cells": [
  {
   "cell_type": "code",
   "execution_count": 1,
   "metadata": {},
   "source": [
    "using System.Security.Cryptography;\n",
    "\n",
    "string userId = \"Sally@company.com\";\n",
    "\n",
    "byte[] userIdBytes = System.Text.Encoding.UTF8.GetBytes(userId);\n",
    "byte[] hash = MD5.Create().ComputeHash(userIdBytes);\n",
    "\n",
    "Console.WriteLine($\"hash.length: {hash.Length}\");\n",
    "Console.WriteLine($\"hash = {BitConverter.ToString(hash)}\");\n",
    "\n",
    ""
   ],
   "outputs": [
    {
     "output_type": "execute_result",
     "data": {
      "text/plain": "hash.length: 16\r\n"
     },
     "execution_count": 1,
     "metadata": {}
    },
    {
     "output_type": "execute_result",
     "data": {
      "text/plain": "hash = 8D-29-BE-F3-A7-A3-D4-02-C7-67-23-84-26-72-69-86\r\n"
     },
     "execution_count": 1,
     "metadata": {}
    }
   ]
  }
 ],
 "metadata": {
  "kernelspec": {
   "display_name": ".NET (C#)",
   "language": "C#",
   "name": ".net-csharp"
  },
  "language_info": {
   "file_extension": ".cs",
   "mimetype": "text/x-csharp",
   "name": "C#",
   "pygments_lexer": "csharp",
   "version": "8.0"
  }
 },
 "nbformat": 4,
 "nbformat_minor": 4
}